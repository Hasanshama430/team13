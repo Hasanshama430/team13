{
  "nbformat": 4,
  "nbformat_minor": 0,
  "metadata": {
    "colab": {
      "name": "Untitled4.ipynb",
      "provenance": []
    },
    "kernelspec": {
      "name": "python3",
      "display_name": "Python 3"
    },
    "language_info": {
      "name": "python"
    }
  },
  "cells": [
    {
      "cell_type": "code",
      "metadata": {
        "id": "f6NvqgXuS5cX"
      },
      "source": [
        "import tensorflow as tf\n",
        "from tensorflow.keras.datasets import cifar10 \n",
        "from tensorflow.keras import Sequential\n",
        "from tensorflow.keras.layers import Conv2D , Dropout , MaxPooling2D , Flatten , Dense ,LeakyReLU ,Activation\n",
        "from tensorflow.keras.losses import categorical_crossentropy\n",
        "from tensorflow.keras.optimizers import SGD \n",
        "\n",
        "print(\"Done\")"
      ],
      "execution_count": null,
      "outputs": []
    },
    {
      "cell_type": "code",
      "metadata": {
        "id": "jirg8ZM1S_A0"
      },
      "source": [
        "import cv2 as cv\n",
        "enter=input(\"Enter your description:\")\n",
        "enter2=input(\"enter your Humiditity\")\n",
        "enter3=input(\" enter your Humiditity\") \n",
        "classes = ['Low','Meduim','Higth','Very higth']\n",
        "(x_train, y_train), (x_test, y_test) = load_data(\"https://www.gettyimages.ae/photos/desertification?assettype=image&sort=mostpopular&phrase=desertification&license=rf,rm\")\n",
        "x_train=x_train/255.0\n",
        "print(x_train.shape)\n",
        "x_test=x_test/255.0\n",
        "print(x_test.shape)\n",
        "\n",
        "\n",
        "x_train = x_train[:1500]\n",
        "x_test = x_test[:200]\n",
        "y_train = y_train[: 1500]\n",
        "y_test = y_test[: 200]\n",
        "\n",
        "train_norm = x_train.astype('float32')\n",
        "test_norm = x_test.astype('float32')\n",
        "\n",
        "\n",
        "\n",
        "print(y_train[0])\n",
        "\n",
        "model = Sequential()\n",
        "model.add(Conv2D(16, (3, 3), padding ='same', activation = 'relu',input_shape = (32, 32, 3)))\n",
        "model.add(Conv2D(32, (3, 3), padding ='same', activation = 'relu',input_shape = (32, 32, 3)))\n",
        "model.add(MaxPooling2D(pool_size = (2,2), strides = None,padding = 'valid',data_format = None))\n",
        "model.add(Dropout(0.25))\n",
        "model.add(Conv2D(32, (3, 3), padding ='same', activation = 'relu',input_shape = (32, 32, 3)))\n",
        "model.add(Conv2D(64, (3, 3), padding ='same', activation = 'relu',input_shape = (32, 32, 3)))\n",
        "model.add(MaxPooling2D(pool_size = (2,2), strides = None,padding = 'valid',data_format = None))\n",
        "model.add(Dropout(0.25))\n",
        "model.add(Flatten())\n",
        "model.add(Dense(256, input_shape = (256, )))\n",
        "model.add(Dense(10))\n",
        "model.add(LeakyReLU(0.1))\n",
        "model.add(Activation('softmax'))\n",
        "model.compile(optimizer = 'adam',loss=categorical_crossentropy ,metrics=['accuracy'])\n",
        "\n",
        "y_train_binary = tf.keras.utils.to_categorical(y_train, 4)\n",
        "print(y_train_binary[0])\n",
        "y_test_binary = tf.keras.utils.to_categorical(y_test, 4)\n",
        "\n",
        "\n",
        "epochs =  8\n",
        "history = model.fit(train_norm, y_train_binary, batch_size=64,epochs=epochs,verbose=1,validation_data=(test_norm, y_test_binary))\n",
        "\n",
        "model.save(r'D:\\CNN3\\model')"
      ],
      "execution_count": null,
      "outputs": []
    },
    {
      "cell_type": "code",
      "metadata": {
        "id": "sqg9ixGwTJ4E"
      },
      "source": [
        "from tensorflow.keras.preprocessing.image import img_to_array\n",
        "from tensorflow.keras.preprocessing.image import load_img\n",
        "from tensorflow.keras.models import load_model \n",
        "import numpy as np\n",
        "import cv2\n",
        "model = Sequential()\n",
        "model = tf.keras.models.load_model(\"D:\\CNN3\\model\")\n",
        "\n",
        "image = load_img(r'D:\\CNN3\\a.jpg', target_size=(32,32))\n",
        "image = img_to_array(image)\n",
        "image = np.expand_dims(image, axis=0)\n",
        "\n",
        "preds = model.predict(image)\n",
        "pred_labels = np.argmax(preds, axis = 1)\n",
        "print(classes[pred_labels[0]])\n",
        "\n",
        "\n"
      ],
      "execution_count": null,
      "outputs": []
    }
  ]
}